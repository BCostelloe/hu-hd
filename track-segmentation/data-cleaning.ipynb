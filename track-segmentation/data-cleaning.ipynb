{
 "cells": [
  {
   "cell_type": "markdown",
   "id": "3faee7dd",
   "metadata": {},
   "source": [
    "This notebook will read in the corrected track files, match up the tracks with their species and individual IDs, and reshape the data to work with the momentuHMM package."
   ]
  },
  {
   "cell_type": "code",
   "execution_count": 2,
   "id": "b0875ce6",
   "metadata": {},
   "outputs": [],
   "source": [
    "import pandas as pd\n",
    "import numpy as np\n",
    "import os\n",
    "\n",
    "mount = '/Volumes'"
   ]
  },
  {
   "cell_type": "code",
   "execution_count": 3,
   "id": "22f427c9",
   "metadata": {},
   "outputs": [],
   "source": [
    "# load data on observations\n",
    "hhdata = np.load('../data/HH-data.npy', allow_pickle=True)\n",
    "\n",
    "# load in csv giving the individual IDs for each track (exported from MySQL)\n",
    "track_ids = pd.read_csv('../data/trackIDs.csv')\n",
    "\n",
    "# load in csv giving the species IDs for each individual (exported from MySQL)\n",
    "track_spps = pd.read_csv('../data/trackspps.csv')"
   ]
  },
  {
   "cell_type": "code",
   "execution_count": 20,
   "id": "78f1ddb5",
   "metadata": {},
   "outputs": [],
   "source": [
    "# list of usable observations\n",
    "focal_obs = ['015', '066', '074']\n",
    "# focal_obs = ['074']"
   ]
  },
  {
   "cell_type": "code",
   "execution_count": 21,
   "id": "3aae7bf5",
   "metadata": {},
   "outputs": [
    {
     "name": "stderr",
     "output_type": "stream",
     "text": [
      "/var/folders/8f/4sdj61pd4gj828jy75btms1r0000gn/T/ipykernel_15254/4163661626.py:14: SettingWithCopyWarning: \n",
      "A value is trying to be set on a copy of a slice from a DataFrame\n",
      "\n",
      "See the caveats in the documentation: https://pandas.pydata.org/pandas-docs/stable/user_guide/indexing.html#returning-a-view-versus-a-copy\n",
      "  clean_tracks.dropna(inplace = True)\n"
     ]
    }
   ],
   "source": [
    "for t in focal_obs:\n",
    "    for i in hhdata:\n",
    "        if i['observation'] == t:\n",
    "            file = mount + i['utm-tracks']\n",
    "            tracks = np.load(file, allow_pickle = True)\n",
    "            z,f,c = tracks.shape\n",
    "            out_arr = np.column_stack((np.repeat(np.arange(z),f),tracks.reshape(z*f,-1)))\n",
    "            out_df = pd.DataFrame(out_arr, columns = ['track_num', 'lon', 'lat'])\n",
    "            out_df['frame'] = np.tile(np.arange(f),z)\n",
    "            out_df['trackID'] = ['ob' + t + '-' + str(int(p)).zfill(4) for p in out_df.track_num]\n",
    "            out_df['indID'] = [track_ids[track_ids['trackID'] == p]['indID'].values[0] for p in out_df['trackID']]\n",
    "            out_df['spp'] = [track_spps[track_spps['indID'] == p]['species'].values[0] for p in out_df['indID']]\n",
    "            clean_tracks = out_df[(out_df['spp'] == 'gz') | (out_df['spp'] == 'pz')]\n",
    "            clean_tracks.dropna(inplace = True)\n",
    "            name = 'ob' + t + '_segtracks.csv'\n",
    "            clean_tracks.to_csv(os.path.join('tracks-for-segmentation', name), index = False)"
   ]
  },
  {
   "cell_type": "code",
   "execution_count": 18,
   "id": "cd120f94",
   "metadata": {},
   "outputs": [],
   "source": [
    "# t = '015'\n",
    "# for i in hhdata:\n",
    "#     if i['observation'] == t:\n",
    "#         file = mount + i['utm-tracks']\n",
    "#         tracks = np.load(file, allow_pickle = True)\n",
    "#         z,f,c = tracks.shape\n",
    "#         out_arr = np.column_stack((np.repeat(np.arange(z),f),tracks.reshape(z*f,-1)))\n",
    "#         out_df = pd.DataFrame(out_arr, columns = ['track_num', 'lon', 'lat'])\n",
    "#         out_df['frame'] = np.tile(np.arange(f),z)"
   ]
  },
  {
   "cell_type": "markdown",
   "id": "cb11ec2c",
   "metadata": {},
   "source": [
    "Now each observation's tracks are in the appropriate format for segmentation. In the segmentation script I just have to read all the csvs in, apply whatever smoothing needs to happen, and then append them into a single file. I should only re-run this code on observations that don't already have clean tracks (that is, ones that aren't in the focal_obs list above), or on observations whose tracks have been redone."
   ]
  },
  {
   "cell_type": "markdown",
   "id": "1aa99444",
   "metadata": {},
   "source": [
    "Now to smooth the tracks. First import the clean tracks csvs and divide them by track IDs. Rename as required by traja, and then smooth."
   ]
  },
  {
   "cell_type": "code",
   "execution_count": 1,
   "id": "0f0b950b",
   "metadata": {},
   "outputs": [],
   "source": [
    "import traja\n",
    "import pandas as pd"
   ]
  },
  {
   "cell_type": "code",
   "execution_count": null,
   "id": "6a582f40",
   "metadata": {},
   "outputs": [],
   "source": [
    "df = pd.read_csv('/tracks-for-segmentation/ob015_segtracks.csv')\n",
    "df = df.rename(columns={'lon':'x', 'lat':'y', 'frame':'time'})\n",
    "trj = traja.TrajaDataFrame(df)\n",
    "\n",
    "# get track numbers\n",
    "# track_nums = np.unique(df['track_num'])\n",
    "track_nums = 0\n",
    "for i in track_nums:\n",
    "    sub_trj = trj[trj['track_num'] == i]\n",
    "    sub_trj.plot()\n",
    "    sub_smooth = traja.smooth_sg(sub_trj, w = 30)\n",
    "    sub_smooth.plot()"
   ]
  },
  {
   "cell_type": "code",
   "execution_count": null,
   "id": "76951f8d",
   "metadata": {},
   "outputs": [],
   "source": []
  },
  {
   "cell_type": "code",
   "execution_count": null,
   "id": "853a1479",
   "metadata": {},
   "outputs": [],
   "source": [
    "df = pd.read_csv('data.csv')\n",
    "\n",
    "# If x and y columns are named different than \"x\" and \"y\", rename them, eg:\n",
    "df = df.rename(columns={\"x_col\": \"x\", \"y_col\": \"y\"}) # original column names x_col, y_col\n",
    "\n",
    "# If the time column doesn't include \"time\" in the name, similarly rename it to \"time\"\n",
    "\n",
    "trj = traja.TrajaDataFrame(df)"
   ]
  }
 ],
 "metadata": {
  "kernelspec": {
   "display_name": "Python 3 (ipykernel)",
   "language": "python",
   "name": "python3"
  },
  "language_info": {
   "codemirror_mode": {
    "name": "ipython",
    "version": 3
   },
   "file_extension": ".py",
   "mimetype": "text/x-python",
   "name": "python",
   "nbconvert_exporter": "python",
   "pygments_lexer": "ipython3",
   "version": "3.8.12"
  }
 },
 "nbformat": 4,
 "nbformat_minor": 5
}
