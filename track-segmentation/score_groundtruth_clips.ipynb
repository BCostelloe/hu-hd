{
 "cells": [
  {
   "cell_type": "markdown",
   "id": "1f93dd48-829a-4847-a3d6-494230b64e1b",
   "metadata": {},
   "source": [
    "This code will go through the groundtruth clip videos on the server and randomly choose 3 non-overlapping clips from each track to score. It will extract the observation, track, start frame and endframe from the file name and store these in a dataframe. It will then play the video and allow the user to input a behavioral score for the clip. To score the video, the user will choose one of three categories (encamped, walking, running) that describes the whole clip. If the clip shows more than one category, it will be discarded and another clip will be chosen. \n",
    "\n",
    "The information about the video will be saved along with the behavioral score in a dataframe."
   ]
  },
  {
   "cell_type": "code",
   "execution_count": 7,
   "id": "8736bf41-15ff-4845-9461-8a318b50cc84",
   "metadata": {
    "collapsed": true,
    "jupyter": {
     "outputs_hidden": true
    }
   },
   "outputs": [],
   "source": [
    "# import packages\n",
    "import pandas as pd\n",
    "import numpy as np\n",
    "import os\n",
    "import random\n",
    "import cv2\n",
    "import glob\n",
    "import shutil\n",
    "\n",
    "mount = '/home/blair/server/herd_hover'\n",
    "video_folder = os.path.join(mount, 'vigilance', 'groundtruth-clips')"
   ]
  },
  {
   "cell_type": "code",
   "execution_count": 8,
   "id": "76b6a0bd-08d5-4d69-9857-8d8e6b93a941",
   "metadata": {
    "collapsed": true,
    "jupyter": {
     "outputs_hidden": true
    }
   },
   "outputs": [],
   "source": [
    "# read in dataframe of previously scored videos\n",
    "\n",
    "# # If no videos have been scored yet:\n",
    "# d = {'obtrack': [], 'start': [], 'end': [], 'score': []}\n",
    "# scored = pd.DataFrame(d)\n",
    "\n",
    "# If some videos have already been scored:\n",
    "scored = pd.read_csv('video_scores.csv')"
   ]
  },
  {
   "cell_type": "code",
   "execution_count": 9,
   "id": "4a073b41-6c1c-4ed0-90e7-daae311f4105",
   "metadata": {
    "collapsed": true,
    "jupyter": {
     "outputs_hidden": true
    }
   },
   "outputs": [],
   "source": [
    "# get all filenames in the video folder\n",
    "vids = []\n",
    "for root, dirs, files in os.walk(video_folder):\n",
    "    for name in files:\n",
    "        if name.startswith('.'):\n",
    "            continue\n",
    "        vids.append(name)"
   ]
  },
  {
   "cell_type": "code",
   "execution_count": 10,
   "id": "8becf9df-ea13-4b0d-ad06-214207d23d90",
   "metadata": {
    "collapsed": true,
    "jupyter": {
     "outputs_hidden": true
    }
   },
   "outputs": [],
   "source": [
    "obtracks = []\n",
    "startframe = []\n",
    "endframe = []\n",
    "for v in vids:\n",
    "    ob = v.split('_')[0]\n",
    "    tr = v.split('_')[1]\n",
    "    obtr = str(ob + '-' + tr)\n",
    "    start = int(v.split('_')[3].split('.')[0])\n",
    "    end = start + 300\n",
    "    obtracks.append(obtr)\n",
    "    startframe.append(start)\n",
    "    endframe.append(end)"
   ]
  },
  {
   "cell_type": "code",
   "execution_count": 11,
   "id": "a56453ef-7b79-45fa-b27d-fd7b1d1d1a20",
   "metadata": {
    "collapsed": true,
    "jupyter": {
     "outputs_hidden": true
    }
   },
   "outputs": [],
   "source": [
    "d = {'obtrack':obtracks, 'start':startframe, 'end':endframe, 'file': vids}\n",
    "allvids = pd.DataFrame(d)"
   ]
  },
  {
   "cell_type": "code",
   "execution_count": 12,
   "id": "13091e77-4099-4993-8fb1-b92a976cb4ad",
   "metadata": {
    "collapsed": true,
    "jupyter": {
     "outputs_hidden": true
    }
   },
   "outputs": [
    {
     "name": "stdout",
     "output_type": "stream",
     "text": [
      "watch and score video observation027_track-6_startframe_04860.mp4\n",
      "type stationary, walking or running, or split\n"
     ]
    },
    {
     "name": "stdin",
     "output_type": "stream",
     "text": [
      " running\n"
     ]
    },
    {
     "name": "stdout",
     "output_type": "stream",
     "text": [
      "watch and score video observation027_track-0_startframe_01740.mp4\n",
      "type stationary, walking or running, or split\n"
     ]
    },
    {
     "name": "stdin",
     "output_type": "stream",
     "text": [
      " running\n"
     ]
    },
    {
     "name": "stdout",
     "output_type": "stream",
     "text": [
      "watch and score video observation027_track-3_startframe_08520.mp4\n",
      "type stationary, walking or running, or split\n"
     ]
    },
    {
     "name": "stdin",
     "output_type": "stream",
     "text": [
      " split\n"
     ]
    },
    {
     "name": "stdout",
     "output_type": "stream",
     "text": [
      "watch and score video observation027_track-3_startframe_12360.mp4\n",
      "type stationary, walking or running, or split\n"
     ]
    },
    {
     "name": "stdin",
     "output_type": "stream",
     "text": [
      " split\n"
     ]
    },
    {
     "name": "stdout",
     "output_type": "stream",
     "text": [
      "watch and score video observation027_track-6_startframe_00660.mp4\n",
      "type stationary, walking or running, or split\n"
     ]
    },
    {
     "name": "stdin",
     "output_type": "stream",
     "text": [
      " running\n"
     ]
    },
    {
     "name": "stdout",
     "output_type": "stream",
     "text": [
      "watch and score video observation027_track-2_startframe_00540.mp4\n",
      "type stationary, walking or running, or split\n"
     ]
    },
    {
     "name": "stdin",
     "output_type": "stream",
     "text": [
      " running\n"
     ]
    },
    {
     "name": "stdout",
     "output_type": "stream",
     "text": [
      "watch and score video observation027_track-2_startframe_04740.mp4\n",
      "type stationary, walking or running, or split\n"
     ]
    },
    {
     "name": "stdin",
     "output_type": "stream",
     "text": [
      " split\n"
     ]
    },
    {
     "name": "stdout",
     "output_type": "stream",
     "text": [
      "watch and score video observation027_track-2_startframe_03420.mp4\n",
      "type stationary, walking or running, or split\n"
     ]
    },
    {
     "name": "stdin",
     "output_type": "stream",
     "text": [
      " stationary\n"
     ]
    },
    {
     "name": "stdout",
     "output_type": "stream",
     "text": [
      "watch and score video observation027_track-2_startframe_05760.mp4\n",
      "type stationary, walking or running, or split\n"
     ]
    },
    {
     "name": "stdin",
     "output_type": "stream",
     "text": [
      " running\n"
     ]
    },
    {
     "name": "stdout",
     "output_type": "stream",
     "text": [
      "watch and score video observation027_track-6_startframe_00180.mp4\n",
      "type stationary, walking or running, or split\n"
     ]
    },
    {
     "name": "stdin",
     "output_type": "stream",
     "text": [
      " split\n"
     ]
    },
    {
     "name": "stdout",
     "output_type": "stream",
     "text": [
      "watch and score video observation027_track-3_startframe_10980.mp4\n",
      "type stationary, walking or running, or split\n"
     ]
    },
    {
     "name": "stdin",
     "output_type": "stream",
     "text": [
      " running\n"
     ]
    },
    {
     "name": "stdout",
     "output_type": "stream",
     "text": [
      "watch and score video observation027_track-1_startframe_08700.mp4\n",
      "type stationary, walking or running, or split\n"
     ]
    },
    {
     "name": "stdin",
     "output_type": "stream",
     "text": [
      " walking\n"
     ]
    },
    {
     "name": "stdout",
     "output_type": "stream",
     "text": [
      "watch and score video observation027_track-1_startframe_09180.mp4\n",
      "type stationary, walking or running, or split\n"
     ]
    },
    {
     "name": "stdin",
     "output_type": "stream",
     "text": [
      " running\n"
     ]
    },
    {
     "name": "stdout",
     "output_type": "stream",
     "text": [
      "watch and score video observation027_track-1_startframe_00420.mp4\n",
      "type stationary, walking or running, or split\n"
     ]
    },
    {
     "name": "stdin",
     "output_type": "stream",
     "text": [
      " running\n"
     ]
    },
    {
     "name": "stdout",
     "output_type": "stream",
     "text": [
      "watch and score video observation027_track-6_startframe_05880.mp4\n",
      "type stationary, walking or running, or split\n"
     ]
    },
    {
     "name": "stdin",
     "output_type": "stream",
     "text": [
      " running\n"
     ]
    },
    {
     "name": "stdout",
     "output_type": "stream",
     "text": [
      "watch and score video observation027_track-0_startframe_09420.mp4\n",
      "type stationary, walking or running, or split\n"
     ]
    },
    {
     "name": "stdin",
     "output_type": "stream",
     "text": [
      " walking\n"
     ]
    },
    {
     "name": "stdout",
     "output_type": "stream",
     "text": [
      "watch and score video observation027_track-0_startframe_05220.mp4\n",
      "type stationary, walking or running, or split\n"
     ]
    },
    {
     "name": "stdin",
     "output_type": "stream",
     "text": [
      " running\n"
     ]
    },
    {
     "name": "stdout",
     "output_type": "stream",
     "text": [
      "watch and score video observation027_track-3_startframe_07560.mp4\n",
      "type stationary, walking or running, or split\n"
     ]
    },
    {
     "name": "stdin",
     "output_type": "stream",
     "text": [
      " stationary\n"
     ]
    },
    {
     "name": "stdout",
     "output_type": "stream",
     "text": [
      "watch and score video observation027_track-3_startframe_06480.mp4\n",
      "type stationary, walking or running, or split\n"
     ]
    },
    {
     "name": "stdin",
     "output_type": "stream",
     "text": [
      " running\n"
     ]
    },
    {
     "name": "stdout",
     "output_type": "stream",
     "text": [
      "watch and score video observation027_track-4_startframe_00060.mp4\n",
      "type stationary, walking or running, or split\n"
     ]
    },
    {
     "name": "stdin",
     "output_type": "stream",
     "text": [
      " walking\n"
     ]
    },
    {
     "name": "stdout",
     "output_type": "stream",
     "text": [
      "watch and score video observation066_track-14_startframe_64500.mp4\n",
      "type stationary, walking or running, or split\n"
     ]
    },
    {
     "name": "stdin",
     "output_type": "stream",
     "text": [
      " running\n"
     ]
    },
    {
     "name": "stdout",
     "output_type": "stream",
     "text": [
      "watch and score video observation066_track-14_startframe_64500.mp4\n",
      "type stationary, walking or running, or split\n"
     ]
    },
    {
     "name": "stdin",
     "output_type": "stream",
     "text": [
      " running\n"
     ]
    },
    {
     "ename": "FileNotFoundError",
     "evalue": "[Errno 2] No such file or directory: '/home/blair/server/herd_hover/vigilance/groundtruth-clips/observation066_track-14_startframe_64500.mp4'",
     "output_type": "error",
     "traceback": [
      "\u001b[0;31m---------------------------------------------------------------------------\u001b[0m",
      "\u001b[0;31mFileNotFoundError\u001b[0m                         Traceback (most recent call last)",
      "File \u001b[0;32m/usr/lib/python3.8/shutil.py:791\u001b[0m, in \u001b[0;36mmove\u001b[0;34m(src, dst, copy_function)\u001b[0m\n\u001b[1;32m    790\u001b[0m \u001b[38;5;28;01mtry\u001b[39;00m:\n\u001b[0;32m--> 791\u001b[0m     \u001b[43mos\u001b[49m\u001b[38;5;241;43m.\u001b[39;49m\u001b[43mrename\u001b[49m\u001b[43m(\u001b[49m\u001b[43msrc\u001b[49m\u001b[43m,\u001b[49m\u001b[43m \u001b[49m\u001b[43mreal_dst\u001b[49m\u001b[43m)\u001b[49m\n\u001b[1;32m    792\u001b[0m \u001b[38;5;28;01mexcept\u001b[39;00m \u001b[38;5;167;01mOSError\u001b[39;00m:\n",
      "\u001b[0;31mFileNotFoundError\u001b[0m: [Errno 2] No such file or directory: '/home/blair/server/herd_hover/vigilance/groundtruth-clips/observation066_track-14_startframe_64500.mp4' -> '/home/blair/server/herd_hover/vigilance/groundtruth-clips/scored/observation066_track-14_startframe_64500.mp4'",
      "\nDuring handling of the above exception, another exception occurred:\n",
      "\u001b[0;31mFileNotFoundError\u001b[0m                         Traceback (most recent call last)",
      "Input \u001b[0;32mIn [12]\u001b[0m, in \u001b[0;36m<cell line: 1>\u001b[0;34m()\u001b[0m\n\u001b[1;32m     31\u001b[0m scored \u001b[38;5;241m=\u001b[39m pd\u001b[38;5;241m.\u001b[39mconcat([scored, new_row], ignore_index \u001b[38;5;241m=\u001b[39m \u001b[38;5;28;01mTrue\u001b[39;00m)\n\u001b[1;32m     32\u001b[0m new_loc \u001b[38;5;241m=\u001b[39m os\u001b[38;5;241m.\u001b[39mpath\u001b[38;5;241m.\u001b[39mjoin(video_folder, \u001b[38;5;124m'\u001b[39m\u001b[38;5;124mscored\u001b[39m\u001b[38;5;124m'\u001b[39m, allvids\u001b[38;5;241m.\u001b[39mfile[i])\n\u001b[0;32m---> 33\u001b[0m \u001b[43mshutil\u001b[49m\u001b[38;5;241;43m.\u001b[39;49m\u001b[43mmove\u001b[49m\u001b[43m(\u001b[49m\u001b[43mvideo\u001b[49m\u001b[43m,\u001b[49m\u001b[43m \u001b[49m\u001b[43mnew_loc\u001b[49m\u001b[43m)\u001b[49m\n",
      "File \u001b[0;32m/usr/lib/python3.8/shutil.py:811\u001b[0m, in \u001b[0;36mmove\u001b[0;34m(src, dst, copy_function)\u001b[0m\n\u001b[1;32m    809\u001b[0m         rmtree(src)\n\u001b[1;32m    810\u001b[0m     \u001b[38;5;28;01melse\u001b[39;00m:\n\u001b[0;32m--> 811\u001b[0m         \u001b[43mcopy_function\u001b[49m\u001b[43m(\u001b[49m\u001b[43msrc\u001b[49m\u001b[43m,\u001b[49m\u001b[43m \u001b[49m\u001b[43mreal_dst\u001b[49m\u001b[43m)\u001b[49m\n\u001b[1;32m    812\u001b[0m         os\u001b[38;5;241m.\u001b[39munlink(src)\n\u001b[1;32m    813\u001b[0m \u001b[38;5;28;01mreturn\u001b[39;00m real_dst\n",
      "File \u001b[0;32m/usr/lib/python3.8/shutil.py:435\u001b[0m, in \u001b[0;36mcopy2\u001b[0;34m(src, dst, follow_symlinks)\u001b[0m\n\u001b[1;32m    433\u001b[0m \u001b[38;5;28;01mif\u001b[39;00m os\u001b[38;5;241m.\u001b[39mpath\u001b[38;5;241m.\u001b[39misdir(dst):\n\u001b[1;32m    434\u001b[0m     dst \u001b[38;5;241m=\u001b[39m os\u001b[38;5;241m.\u001b[39mpath\u001b[38;5;241m.\u001b[39mjoin(dst, os\u001b[38;5;241m.\u001b[39mpath\u001b[38;5;241m.\u001b[39mbasename(src))\n\u001b[0;32m--> 435\u001b[0m \u001b[43mcopyfile\u001b[49m\u001b[43m(\u001b[49m\u001b[43msrc\u001b[49m\u001b[43m,\u001b[49m\u001b[43m \u001b[49m\u001b[43mdst\u001b[49m\u001b[43m,\u001b[49m\u001b[43m \u001b[49m\u001b[43mfollow_symlinks\u001b[49m\u001b[38;5;241;43m=\u001b[39;49m\u001b[43mfollow_symlinks\u001b[49m\u001b[43m)\u001b[49m\n\u001b[1;32m    436\u001b[0m copystat(src, dst, follow_symlinks\u001b[38;5;241m=\u001b[39mfollow_symlinks)\n\u001b[1;32m    437\u001b[0m \u001b[38;5;28;01mreturn\u001b[39;00m dst\n",
      "File \u001b[0;32m/usr/lib/python3.8/shutil.py:264\u001b[0m, in \u001b[0;36mcopyfile\u001b[0;34m(src, dst, follow_symlinks)\u001b[0m\n\u001b[1;32m    262\u001b[0m     os\u001b[38;5;241m.\u001b[39msymlink(os\u001b[38;5;241m.\u001b[39mreadlink(src), dst)\n\u001b[1;32m    263\u001b[0m \u001b[38;5;28;01melse\u001b[39;00m:\n\u001b[0;32m--> 264\u001b[0m     \u001b[38;5;28;01mwith\u001b[39;00m \u001b[38;5;28;43mopen\u001b[39;49m\u001b[43m(\u001b[49m\u001b[43msrc\u001b[49m\u001b[43m,\u001b[49m\u001b[43m \u001b[49m\u001b[38;5;124;43m'\u001b[39;49m\u001b[38;5;124;43mrb\u001b[39;49m\u001b[38;5;124;43m'\u001b[39;49m\u001b[43m)\u001b[49m \u001b[38;5;28;01mas\u001b[39;00m fsrc, \u001b[38;5;28mopen\u001b[39m(dst, \u001b[38;5;124m'\u001b[39m\u001b[38;5;124mwb\u001b[39m\u001b[38;5;124m'\u001b[39m) \u001b[38;5;28;01mas\u001b[39;00m fdst:\n\u001b[1;32m    265\u001b[0m         \u001b[38;5;66;03m# macOS\u001b[39;00m\n\u001b[1;32m    266\u001b[0m         \u001b[38;5;28;01mif\u001b[39;00m _HAS_FCOPYFILE:\n\u001b[1;32m    267\u001b[0m             \u001b[38;5;28;01mtry\u001b[39;00m:\n",
      "\u001b[0;31mFileNotFoundError\u001b[0m: [Errno 2] No such file or directory: '/home/blair/server/herd_hover/vigilance/groundtruth-clips/observation066_track-14_startframe_64500.mp4'"
     ]
    }
   ],
   "source": [
    "for i in np.arange(len(allvids)):\n",
    "    tr = allvids.obtrack[i]\n",
    "    # If we have already scored 3 videos for this track, move on \n",
    "    if len(scored[scored.obtrack == tr]) >2:\n",
    "        continue\n",
    "    # If we have already scored one or two videos for this track, we need to make sure the current video does not\n",
    "    # overlap those videos\n",
    "    if len(scored[scored.obtrack == tr]) >0:\n",
    "        check = scored[scored.obtrack == tr]\n",
    "        skip = False\n",
    "        for c in check.start:\n",
    "            if (allvids.start[i] > c) & (allvids.start[i] < c + 300):\n",
    "                skip = True\n",
    "        if skip == True:\n",
    "            continue\n",
    "    print('watch and score video ' + allvids.file[i])\n",
    "    print('type stationary, walking or running, or split')\n",
    "    score = input()\n",
    "    video = os.path.join(video_folder, allvids.file[i])\n",
    "    if score == 'split':\n",
    "        new_loc = os.path.join(video_folder, 'scored', 'split', allvids.file[i])\n",
    "        shutil.move(video, new_loc)\n",
    "        continue\n",
    "    if score == 'skip':\n",
    "        continue\n",
    "    tr = allvids.obtrack[i]\n",
    "    start = allvids.start[i]\n",
    "    end = allvids.end[i]\n",
    "    new_row = {'obtrack': tr, 'start': start, 'end': end, 'score': score}\n",
    "    new_row = pd.DataFrame(new_row, index = [0])\n",
    "    scored = pd.concat([scored, new_row], ignore_index = True)\n",
    "    new_loc = os.path.join(video_folder, 'scored', allvids.file[i])\n",
    "    shutil.move(video, new_loc)"
   ]
  },
  {
   "cell_type": "code",
   "execution_count": 13,
   "id": "1a52b9b1-474d-4833-abf5-437bfddef571",
   "metadata": {
    "collapsed": true,
    "jupyter": {
     "outputs_hidden": true
    }
   },
   "outputs": [],
   "source": [
    "scored.drop_duplicates(inplace = True)\n",
    "scored.to_csv('video_scores.csv', index = False)"
   ]
  },
  {
   "cell_type": "code",
   "execution_count": 14,
   "id": "84cefa1d-761e-48e0-ac3e-926a4663ab06",
   "metadata": {
    "collapsed": true,
    "jupyter": {
     "outputs_hidden": true
    },
    "tags": []
   },
   "outputs": [
    {
     "data": {
      "text/plain": [
       "stationary    82\n",
       "walking       29\n",
       "running       17\n",
       "Name: score, dtype: int64"
      ]
     },
     "execution_count": 14,
     "metadata": {},
     "output_type": "execute_result"
    }
   ],
   "source": [
    "scored.score.value_counts()"
   ]
  }
 ],
 "metadata": {
  "kernelspec": {
   "display_name": "Python 3 (ipykernel)",
   "language": "python",
   "name": "python3"
  },
  "language_info": {
   "codemirror_mode": {
    "name": "ipython",
    "version": 3
   },
   "file_extension": ".py",
   "mimetype": "text/x-python",
   "name": "python",
   "nbconvert_exporter": "python",
   "pygments_lexer": "ipython3",
   "version": "3.8.10"
  }
 },
 "nbformat": 4,
 "nbformat_minor": 5
}
