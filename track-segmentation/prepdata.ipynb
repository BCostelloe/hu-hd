{
 "cells": [
  {
   "cell_type": "markdown",
   "id": "3c942009-53ad-4c68-aa34-c0d266cbbcaf",
   "metadata": {},
   "source": [
    "This code uses momentuHMM's prepdata function to convert the data on animal location into step lengths and turning angles. "
   ]
  },
  {
   "cell_type": "code",
   "execution_count": 1,
   "id": "f772d369-226b-4852-846a-acbe207a3c1f",
   "metadata": {},
   "outputs": [
    {
     "name": "stderr",
     "output_type": "stream",
     "text": [
      "momentuHMM 1.5.4 (2021-09-02)\n",
      "\n"
     ]
    }
   ],
   "source": [
    "library('momentuHMM')"
   ]
  },
  {
   "cell_type": "code",
   "execution_count": 25,
   "id": "39868160-3492-403b-a9d3-4a07ec139643",
   "metadata": {},
   "outputs": [],
   "source": [
    "# read in data\n",
    "tr015 <- read.csv('tracks-for-segmentation/ob015_sub1sec.csv')\n",
    "tr027 <- read.csv('tracks-for-segmentation/ob027_sub1sec.csv')\n",
    "tr066 <- read.csv('tracks-for-segmentation/ob066_sub1sec.csv')\n",
    "tr074 <- read.csv('tracks-for-segmentation/ob074_sub1sec.csv')\n",
    "\n",
    "tracks_1sec <- rbind(tr015, tr027, tr066, tr074)\n",
    "remove(tr015, tr027, tr066, tr074)\n",
    "\n",
    "tr015 <- read.csv('tracks-for-segmentation/ob015_sub2sec.csv')\n",
    "tr027 <- read.csv('tracks-for-segmentation/ob027_sub2sec.csv')\n",
    "tr066 <- read.csv('tracks-for-segmentation/ob066_sub2sec.csv')\n",
    "tr074 <- read.csv('tracks-for-segmentation/ob074_sub2sec.csv')\n",
    "\n",
    "tracks_2sec <- rbind(tr015, tr027, tr066, tr074)\n",
    "remove(tr015, tr027, tr066, tr074)\n",
    "\n",
    "names(tracks_1sec)[names(tracks_1sec) == 'trackID'] <- 'ID'\n",
    "names(tracks_2sec)[names(tracks_2sec) == 'trackID'] <- 'ID'\n",
    "\n",
    "tracks_1sec <- subset(tracks_1sec, select = -c(x, y))\n",
    "tracks_2sec <- subset(tracks_2sec, select = -c(x, y))"
   ]
  },
  {
   "cell_type": "code",
   "execution_count": 26,
   "id": "be26b662-012c-4e55-8ab1-00d27b14259c",
   "metadata": {},
   "outputs": [],
   "source": [
    "subsamps <- list(tracks_1sec, tracks_2sec)\n",
    "# names(subsamps) <- c('1sec', '2sec')\n",
    "windows <- list('05', '15', '31', '45', '61')"
   ]
  },
  {
   "cell_type": "code",
   "execution_count": 30,
   "id": "173b5ff9-10ca-4e89-b9cf-00dc022c27fd",
   "metadata": {},
   "outputs": [],
   "source": [
    "for (s in seq.int(1,length(subsamps), 1)){\n",
    "    for (w in windows){\n",
    "        data <- data.frame(subsamps[s])\n",
    "        x <- paste('smooth_', w, '_x', sep = \"\")\n",
    "        y <- paste('smooth_', w, '_y', sep = \"\")\n",
    "        prepped_data <- prepData(data = data, coordNames = c(x, y), type = 'UTM')\n",
    "        prepped_data <-subset(prepped_data, select = c(ID, step, angle, time, x, y, spp))\n",
    "        filename <- paste('prepped-data/prepped_', s, 'sec_smooth', w, '.csv', sep = \"\")\n",
    "        write.csv(prepped_data, filename, row.names = FALSE)\n",
    "        }}"
   ]
  },
  {
   "cell_type": "code",
   "execution_count": null,
   "id": "163015ce-0c80-4684-807e-d2023216f2d8",
   "metadata": {},
   "outputs": [],
   "source": []
  }
 ],
 "metadata": {
  "kernelspec": {
   "display_name": "R",
   "language": "R",
   "name": "ir"
  },
  "language_info": {
   "codemirror_mode": "r",
   "file_extension": ".r",
   "mimetype": "text/x-r-source",
   "name": "R",
   "pygments_lexer": "r",
   "version": "3.6.3"
  }
 },
 "nbformat": 4,
 "nbformat_minor": 5
}
