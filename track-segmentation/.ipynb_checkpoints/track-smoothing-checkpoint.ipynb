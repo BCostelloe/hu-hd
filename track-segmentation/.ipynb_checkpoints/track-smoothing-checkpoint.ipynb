{
 "cells": [
  {
   "cell_type": "code",
   "execution_count": 1,
   "id": "48ae893d",
   "metadata": {},
   "outputs": [],
   "source": [
    "import pandas as pd\n",
    "import numpy as np\n",
    "import traja\n",
    "import os"
   ]
  },
  {
   "cell_type": "code",
   "execution_count": 2,
   "id": "659dd853-825f-4478-8db2-01d2c3fab2cc",
   "metadata": {},
   "outputs": [],
   "source": [
    "focal_obs = ['015', '027', '066', '074']"
   ]
  },
  {
   "cell_type": "code",
   "execution_count": 6,
   "id": "b24fefd2-2251-4292-ad1d-a84d9550aba9",
   "metadata": {},
   "outputs": [],
   "source": [
    "for t in focal_obs:\n",
    "    file = \"../data/clean_tracks/ob\" + t + \"_clean.csv\"\n",
    "    df = pd.read_csv(file)\n",
    "    df = df.rename(columns={'lon':'x', 'lat':'y', 'frame':'time'})\n",
    "    trj = traja.TrajaDataFrame(df)\n",
    "    track_nums = np.unique(df['track_num'])\n",
    "    \n",
    "    smooth_05_x = []\n",
    "    smooth_05_y = []\n",
    "    smooth_15_x = []\n",
    "    smooth_15_y = []\n",
    "    smooth_31_x = []\n",
    "    smooth_31_y = []\n",
    "    smooth_45_x = []\n",
    "    smooth_45_y = []\n",
    "    smooth_61_x = []\n",
    "    smooth_61_y = []\n",
    "    \n",
    "    for i in track_nums:\n",
    "        sub_trj = trj[trj['track_num'] == i]\n",
    "\n",
    "        smooth_05 = traja.smooth_sg(sub_trj, w = 5)\n",
    "        smooth_05_x = smooth_05_x + list(smooth_05['x'])\n",
    "        smooth_05_y = smooth_05_y + list(smooth_05['y'])\n",
    "\n",
    "        smooth_15 = traja.smooth_sg(sub_trj, w = 15)\n",
    "        smooth_15_x = smooth_15_x + list(smooth_15['x'])\n",
    "        smooth_15_y = smooth_15_y + list(smooth_15['y'])\n",
    "\n",
    "        smooth_31 = traja.smooth_sg(sub_trj, w = 31)\n",
    "        smooth_31_x = smooth_31_x + list(smooth_31['x'])\n",
    "        smooth_31_y = smooth_31_y + list(smooth_31['y'])\n",
    "\n",
    "        smooth_45 = traja.smooth_sg(sub_trj, w = 45)\n",
    "        smooth_45_x = smooth_45_x + list(smooth_45['x'])\n",
    "        smooth_45_y = smooth_45_y + list(smooth_45['y'])\n",
    "\n",
    "        smooth_61 = traja.smooth_sg(sub_trj, w = 61)\n",
    "        smooth_61_x = smooth_61_x + list(smooth_61['x'])\n",
    "        smooth_61_y = smooth_61_y + list(smooth_61['y'])\n",
    "\n",
    "    # add smoothed trajectories to dataframe\n",
    "    trj['smooth_05_x'] = smooth_05_x\n",
    "    trj['smooth_05_y'] = smooth_05_y\n",
    "    trj['smooth_15_x'] = smooth_15_x\n",
    "    trj['smooth_15_y'] = smooth_15_y\n",
    "    trj['smooth_31_x'] = smooth_31_x\n",
    "    trj['smooth_31_y'] = smooth_31_y\n",
    "    trj['smooth_45_x'] = smooth_45_x\n",
    "    trj['smooth_45_y'] = smooth_45_y\n",
    "    trj['smooth_61_x'] = smooth_61_x\n",
    "    trj['smooth_61_y'] = smooth_61_y\n",
    "    \n",
    "    # write dataframe with smoothed trajectories\n",
    "    new_name = 'ob' + t + '_smooth.csv'\n",
    "    trj.to_csv(os.path.join('tracks-for-segmentation', new_name), index = False)"
   ]
  },
  {
   "cell_type": "markdown",
   "id": "a09ccda7",
   "metadata": {},
   "source": [
    "Now each file has each track smoothed using different windows. These should be read into the R script for path segmentation."
   ]
  },
  {
   "cell_type": "code",
   "execution_count": null,
   "id": "d79c724c",
   "metadata": {},
   "outputs": [],
   "source": []
  }
 ],
 "metadata": {
  "kernelspec": {
   "display_name": "Python 3 (ipykernel)",
   "language": "python",
   "name": "python3"
  },
  "language_info": {
   "codemirror_mode": {
    "name": "ipython",
    "version": 3
   },
   "file_extension": ".py",
   "mimetype": "text/x-python",
   "name": "python",
   "nbconvert_exporter": "python",
   "pygments_lexer": "ipython3",
   "version": "3.8.10"
  }
 },
 "nbformat": 4,
 "nbformat_minor": 5
}
