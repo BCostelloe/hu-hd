{
 "cells": [
  {
   "cell_type": "code",
   "execution_count": 1,
   "id": "d79c724c",
   "metadata": {},
   "outputs": [],
   "source": [
    "import pandas as pd\n",
    "import numpy as np"
   ]
  },
  {
   "cell_type": "code",
   "execution_count": 2,
   "id": "03f1faa4-a2c1-4dec-94d7-144b3f6e872f",
   "metadata": {},
   "outputs": [],
   "source": [
    "# list of relevant observations\n",
    "obs = ['015', '027', '066', '074']"
   ]
  },
  {
   "cell_type": "code",
   "execution_count": 5,
   "id": "35686b24-9478-410e-aeec-405f61b05df4",
   "metadata": {},
   "outputs": [],
   "source": [
    "sub_interval = 1 # interval between subset frames, in seconds. '2' means one frame every 2 seconds.\n",
    "\n",
    "for t in obs:\n",
    "    inter = sub_interval * 30\n",
    "    file = 'tracks-for-segmentation/ob' + t + '_smooth.csv'\n",
    "    tracks = pd.read_csv(file)\n",
    "    tot_frames = np.max(tracks.time)\n",
    "    sub_frames = np.arange(0, tot_frames, inter)\n",
    "    df = tracks[tracks.time.isin(sub_frames)]\n",
    "    filename = 'tracks-for-segmentation/ob' + t + '_sub' + str(sub_interval) + 'sec.csv'\n",
    "    df.to_csv(filename, index = False)"
   ]
  }
 ],
 "metadata": {
  "kernelspec": {
   "display_name": "Python 3 (ipykernel)",
   "language": "python",
   "name": "python3"
  },
  "language_info": {
   "codemirror_mode": {
    "name": "ipython",
    "version": 3
   },
   "file_extension": ".py",
   "mimetype": "text/x-python",
   "name": "python",
   "nbconvert_exporter": "python",
   "pygments_lexer": "ipython3",
   "version": "3.8.10"
  }
 },
 "nbformat": 4,
 "nbformat_minor": 5
}
