{
 "cells": [
  {
   "cell_type": "code",
   "execution_count": 1,
   "id": "899c50c3",
   "metadata": {},
   "outputs": [
    {
     "name": "stderr",
     "output_type": "stream",
     "text": [
      "also installing the dependencies ‘triebeard’, ‘bit’, ‘geometries’, ‘jsonify’, ‘rapidjsonr’, ‘sfheaders’, ‘urltools’, ‘httpcode’, ‘protolite’, ‘glue’, ‘rlang’, ‘bit64’, ‘vctrs’, ‘progress’, ‘proxy’, ‘geojsonsf’, ‘rgeos’, ‘crul’, ‘maptools’, ‘geojson’, ‘jqr’, ‘jsonvalidate’, ‘cli’, ‘lifecycle’, ‘vroom’, ‘cpp11’, ‘tzdb’, ‘e1071’, ‘wk’, ‘terra’, ‘igraph’, ‘geojsonio’, ‘geojsonlint’, ‘jsonlite’, ‘readr’, ‘V8’, ‘classInt’, ‘s2’, ‘units’, ‘raster’, ‘gdistance’, ‘rmapshaper’, ‘sf’, ‘rngtools’, ‘doParallel’, ‘CircStats’, ‘crawl’, ‘mvtnorm’, ‘sp’, ‘Brobdingnag’, ‘doRNG’, ‘RcppArmadillo’\n",
      "\n",
      "Warning message in install.packages(\"momentuHMM\"):\n",
      "“installation of package ‘jqr’ had non-zero exit status”Warning message in install.packages(\"momentuHMM\"):\n",
      "“installation of package ‘terra’ had non-zero exit status”Warning message in install.packages(\"momentuHMM\"):\n",
      "“installation of package ‘units’ had non-zero exit status”Warning message in install.packages(\"momentuHMM\"):\n",
      "“installation of package ‘protolite’ had non-zero exit status”Warning message in install.packages(\"momentuHMM\"):\n",
      "“installation of package ‘rgeos’ had non-zero exit status”Warning message in install.packages(\"momentuHMM\"):\n",
      "“installation of package ‘raster’ had non-zero exit status”Warning message in install.packages(\"momentuHMM\"):\n",
      "“installation of package ‘vctrs’ had non-zero exit status”Warning message in install.packages(\"momentuHMM\"):\n",
      "“installation of package ‘geojson’ had non-zero exit status”Warning message in install.packages(\"momentuHMM\"):\n",
      "“installation of package ‘gdistance’ had non-zero exit status”Warning message in install.packages(\"momentuHMM\"):\n",
      "“installation of package ‘vroom’ had non-zero exit status”Warning message in install.packages(\"momentuHMM\"):\n",
      "“installation of package ‘sf’ had non-zero exit status”Warning message in install.packages(\"momentuHMM\"):\n",
      "“installation of package ‘readr’ had non-zero exit status”Warning message in install.packages(\"momentuHMM\"):\n",
      "“installation of package ‘geojsonio’ had non-zero exit status”Warning message in install.packages(\"momentuHMM\"):\n",
      "“installation of package ‘rmapshaper’ had non-zero exit status”Warning message in install.packages(\"momentuHMM\"):\n",
      "“installation of package ‘crawl’ had non-zero exit status”Warning message in install.packages(\"momentuHMM\"):\n",
      "“installation of package ‘momentuHMM’ had non-zero exit status”Updating HTML index of packages in '.Library'\n",
      "Making 'packages.html' ... done\n"
     ]
    }
   ],
   "source": [
    "install.packages('momentuHMM')"
   ]
  },
  {
   "cell_type": "code",
   "execution_count": 1,
   "id": "3acb4c61",
   "metadata": {},
   "outputs": [
    {
     "ename": "ERROR",
     "evalue": "Error in library(\"momentuHMM\"): there is no package called ‘momentuHMM’\n",
     "output_type": "error",
     "traceback": [
      "Error in library(\"momentuHMM\"): there is no package called ‘momentuHMM’\nTraceback:\n",
      "1. library(\"momentuHMM\")"
     ]
    }
   ],
   "source": [
    "library('momentuHMM')"
   ]
  },
  {
   "cell_type": "code",
   "execution_count": null,
   "id": "94c9922b",
   "metadata": {},
   "outputs": [],
   "source": [
    "tr074 = read.csv('tracks-for-segmentation/ob074_smoothed.csv')"
   ]
  },
  {
   "cell_type": "code",
   "execution_count": null,
   "id": "91ef564f",
   "metadata": {},
   "outputs": [],
   "source": []
  }
 ],
 "metadata": {
  "kernelspec": {
   "display_name": "R",
   "language": "R",
   "name": "ir"
  },
  "language_info": {
   "codemirror_mode": "r",
   "file_extension": ".r",
   "mimetype": "text/x-r-source",
   "name": "R",
   "pygments_lexer": "r",
   "version": "3.6.1"
  }
 },
 "nbformat": 4,
 "nbformat_minor": 5
}
