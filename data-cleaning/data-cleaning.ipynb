{
 "cells": [
  {
   "cell_type": "markdown",
   "id": "3faee7dd",
   "metadata": {},
   "source": [
    "This notebook will read in the prepped track files and remove tracks representing non-focal and non-zebra individuals."
   ]
  },
  {
   "cell_type": "code",
   "execution_count": 1,
   "id": "b0875ce6",
   "metadata": {},
   "outputs": [],
   "source": [
    "import pandas as pd\n",
    "import numpy as np\n",
    "import os"
   ]
  },
  {
   "cell_type": "code",
   "execution_count": 2,
   "id": "78f1ddb5",
   "metadata": {},
   "outputs": [],
   "source": [
    "# list of usable observations\n",
    "focal_obs = ['015', '027', '066', '074']"
   ]
  },
  {
   "cell_type": "code",
   "execution_count": 3,
   "id": "3aae7bf5",
   "metadata": {},
   "outputs": [],
   "source": [
    "for t in focal_obs:\n",
    "    file = '../data/tracks/ob' + t + '_tracks.csv'\n",
    "    tracks = pd.read_csv(file)\n",
    "    clean_tracks = tracks[((tracks['spp'] == 'gz') | (tracks['spp'] == 'pz')) &\n",
    "                          (tracks['focal'] == 1)]\n",
    "    clean_tracks.dropna(inplace = True)\n",
    "    name = 'ob' + t + '_clean.csv'\n",
    "    clean_tracks.to_csv(os.path.join('../data', 'clean_tracks', name), index = False)"
   ]
  },
  {
   "cell_type": "markdown",
   "id": "cb11ec2c",
   "metadata": {},
   "source": [
    "Each file now only includes the tracks for zebras that are also focal individuals."
   ]
  },
  {
   "cell_type": "code",
   "execution_count": null,
   "id": "a4f4c8f8-6a5d-472e-9273-d1c4bf0ade5e",
   "metadata": {},
   "outputs": [],
   "source": []
  }
 ],
 "metadata": {
  "kernelspec": {
   "display_name": "Python 3 (ipykernel)",
   "language": "python",
   "name": "python3"
  },
  "language_info": {
   "codemirror_mode": {
    "name": "ipython",
    "version": 3
   },
   "file_extension": ".py",
   "mimetype": "text/x-python",
   "name": "python",
   "nbconvert_exporter": "python",
   "pygments_lexer": "ipython3",
   "version": "3.8.10"
  }
 },
 "nbformat": 4,
 "nbformat_minor": 5
}
