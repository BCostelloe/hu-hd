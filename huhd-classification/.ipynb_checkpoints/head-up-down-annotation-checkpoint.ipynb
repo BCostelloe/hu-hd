{
 "cells": [
  {
   "cell_type": "markdown",
   "metadata": {},
   "source": [
    "Before this step, go to terminal and install pigeon by typing: pip install pigeon-jupyter\n",
    "\n",
    "You will also need to install glob and IPython via Anaconda Navigator."
   ]
  },
  {
   "cell_type": "code",
   "execution_count": 1,
   "metadata": {},
   "outputs": [],
   "source": [
    "import glob\n",
    "from pigeon import annotate\n",
    "from IPython.display import display, Image\n",
    "import random\n",
    "import os\n",
    "import pandas as pd\n",
    "import numpy as np\n",
    "\n",
    "mount = '/Volumes'"
   ]
  },
  {
   "cell_type": "code",
   "execution_count": 2,
   "metadata": {},
   "outputs": [],
   "source": [
    "observations_path = mount + '/kenya_drones/processing/kenya-tracking/processed-videos/raw-footage'"
   ]
  },
  {
   "cell_type": "code",
   "execution_count": 3,
   "metadata": {},
   "outputs": [],
   "source": [
    "# Get data directory\n",
    "observations = np.load('../data/HH-data.npy', allow_pickle=True)\n",
    "\n",
    "# Get track species IDs\n",
    "track_ids = pd.read_csv(mount + '/kenya_drones/vigilance/tracksegs_sppIDs.csv')"
   ]
  },
  {
   "cell_type": "code",
   "execution_count": 4,
   "metadata": {},
   "outputs": [],
   "source": [
    "# Read in previous annotations\n",
    "completed_anns = pd.read_csv(mount + '/kenya_drones/vigilance/blair_head_annotations.csv')"
   ]
  },
  {
   "cell_type": "code",
   "execution_count": 5,
   "metadata": {},
   "outputs": [
    {
     "data": {
      "text/plain": [
       "1087"
      ]
     },
     "execution_count": 5,
     "metadata": {},
     "output_type": "execute_result"
    }
   ],
   "source": [
    "len(completed_anns)"
   ]
  },
  {
   "cell_type": "code",
   "execution_count": 6,
   "metadata": {},
   "outputs": [
    {
     "data": {
      "text/plain": [
       "head-up      860\n",
       "head-down    227\n",
       "Name: score, dtype: int64"
      ]
     },
     "execution_count": 6,
     "metadata": {},
     "output_type": "execute_result"
    }
   ],
   "source": [
    "completed_anns.score.value_counts()"
   ]
  },
  {
   "cell_type": "code",
   "execution_count": 7,
   "metadata": {},
   "outputs": [],
   "source": [
    "# Define eligible images - must be in tracked observation\n",
    "tracked_obs =[]\n",
    "for i in observations:\n",
    "    if i['use-in-HUHD-model'] == True:\n",
    "        tracked_obs.append(str('observation') + i['observation'])\n",
    "\n",
    "# And must be zebras\n",
    "zeb_tracks = track_ids[(track_ids['species'] == 'pz')|(track_ids['species'] == 'gz')]\n",
    "zeb_tracks = zeb_tracks[zeb_tracks.observation.isin(tracked_obs)]\n",
    "\n",
    "usable_tracks = zeb_tracks[['observation', 'track']]\n",
    "usable_tracks = usable_tracks.drop_duplicates(ignore_index = True)"
   ]
  },
  {
   "cell_type": "code",
   "execution_count": 8,
   "metadata": {},
   "outputs": [],
   "source": [
    "# Get random set of 200 images\n",
    "frames_to_annotate = []\n",
    "for i in range(200):\n",
    "    rand_num = random.choice(np.arange(len(usable_tracks)))\n",
    "    rand_ob = usable_tracks.iloc[rand_num]['observation']\n",
    "    rand_ind = usable_tracks.iloc[rand_num]['track']\n",
    "    rand_seg = random.choice(os.listdir(os.path.join(observations_path,rand_ob,'individual_images',rand_ind)))\n",
    "    rand_frame = random.choice(os.listdir(os.path.join(observations_path,rand_ob,'individual_images',rand_ind, rand_seg)))\n",
    "    frame_path = os.path.join(observations_path,rand_ob,'individual_images',rand_ind, rand_seg, rand_frame)\n",
    "    frames_to_annotate.append(frame_path)"
   ]
  },
  {
   "cell_type": "code",
   "execution_count": 9,
   "metadata": {},
   "outputs": [],
   "source": [
    "assets = frames_to_annotate"
   ]
  },
  {
   "cell_type": "code",
   "execution_count": 10,
   "metadata": {},
   "outputs": [
    {
     "data": {
      "application/vnd.jupyter.widget-view+json": {
       "model_id": "46c1a22e1b264e16919da2bf196b523c",
       "version_major": 2,
       "version_minor": 0
      },
      "text/plain": [
       "HTML(value='0 examples annotated, 201 examples left')"
      ]
     },
     "metadata": {},
     "output_type": "display_data"
    },
    {
     "data": {
      "application/vnd.jupyter.widget-view+json": {
       "model_id": "325986cad98a4774ac3adfbccc26b359",
       "version_major": 2,
       "version_minor": 0
      },
      "text/plain": [
       "HBox(children=(Button(description='head-up', style=ButtonStyle()), Button(description='head-down', style=Butto…"
      ]
     },
     "metadata": {},
     "output_type": "display_data"
    },
    {
     "data": {
      "application/vnd.jupyter.widget-view+json": {
       "model_id": "2c5387391f334bedbb4a7c10629666d1",
       "version_major": 2,
       "version_minor": 0
      },
      "text/plain": [
       "Output()"
      ]
     },
     "metadata": {},
     "output_type": "display_data"
    },
    {
     "name": "stdout",
     "output_type": "stream",
     "text": [
      "Annotation done.\n"
     ]
    }
   ],
   "source": [
    "# annotate images\n",
    "annotations = annotate(\n",
    "  assets,\n",
    "  options=['head-up', 'head-down', 'obscured'],\n",
    "  display_fn=lambda filename: display(Image(filename,format='jpg'))\n",
    ")"
   ]
  },
  {
   "cell_type": "code",
   "execution_count": 11,
   "metadata": {},
   "outputs": [],
   "source": [
    "# transfer annotations to new variable so they don't get overwritten\n",
    "round1 = annotations"
   ]
  },
  {
   "cell_type": "code",
   "execution_count": 12,
   "metadata": {},
   "outputs": [],
   "source": [
    "# turn annotations into dataframe\n",
    "new_anns = pd.DataFrame(round1, columns =['file', 'score'])"
   ]
  },
  {
   "cell_type": "code",
   "execution_count": 13,
   "metadata": {},
   "outputs": [],
   "source": [
    "# remove obscured scores\n",
    "new_anns = new_anns[new_anns.score != 'obscured']"
   ]
  },
  {
   "cell_type": "code",
   "execution_count": 14,
   "metadata": {},
   "outputs": [
    {
     "data": {
      "text/plain": [
       "0"
      ]
     },
     "execution_count": 14,
     "metadata": {},
     "output_type": "execute_result"
    }
   ],
   "source": [
    "# check if any of the files in the new annotations have already been scored\n",
    "np.sum(new_anns['file'].isin(completed_anns['file']))"
   ]
  },
  {
   "cell_type": "code",
   "execution_count": 15,
   "metadata": {},
   "outputs": [
    {
     "data": {
      "text/html": [
       "<div>\n",
       "<style scoped>\n",
       "    .dataframe tbody tr th:only-of-type {\n",
       "        vertical-align: middle;\n",
       "    }\n",
       "\n",
       "    .dataframe tbody tr th {\n",
       "        vertical-align: top;\n",
       "    }\n",
       "\n",
       "    .dataframe thead th {\n",
       "        text-align: right;\n",
       "    }\n",
       "</style>\n",
       "<table border=\"1\" class=\"dataframe\">\n",
       "  <thead>\n",
       "    <tr style=\"text-align: right;\">\n",
       "      <th></th>\n",
       "      <th>file</th>\n",
       "      <th>score</th>\n",
       "    </tr>\n",
       "  </thead>\n",
       "  <tbody>\n",
       "  </tbody>\n",
       "</table>\n",
       "</div>"
      ],
      "text/plain": [
       "Empty DataFrame\n",
       "Columns: [file, score]\n",
       "Index: []"
      ]
     },
     "execution_count": 15,
     "metadata": {},
     "output_type": "execute_result"
    }
   ],
   "source": [
    "# if above cell is >0, check which rows are repeated\n",
    "new_anns[new_anns['file'].isin(completed_anns['file'])]"
   ]
  },
  {
   "cell_type": "code",
   "execution_count": 16,
   "metadata": {},
   "outputs": [],
   "source": [
    "# # extract pixel coordinates for new annotations\n",
    "# # Add columns for pixel coordinates of each image\n",
    "# x_coord = []\n",
    "# y_coord = []\n",
    "# delim = '/'\n",
    "\n",
    "# for i in new_anns.file:\n",
    "#     # parse filename to get observation\n",
    "#     ob = i.split('/')[7].split('n')[1]\n",
    "#     # load the pixel-coordinate tracks for this observation\n",
    "#     pixtracks = [d['pixel-tracks'] for d in observations if d['observation']==ob][0]\n",
    "#     data = np.load(pixtracks, allow_pickle=True)\n",
    "#     # parse filename to get the track and frame numbers\n",
    "#     track = int(i.split('/')[9].split('-')[1])\n",
    "#     frame = int(i.split('/')[11].split('_')[2].split('.')[0])\n",
    "#     # the individual may not be present for all frames, so get the first frame of the track\n",
    "#     first_frame = data[track]['first_frame']\n",
    "#     # subtract the first frame for that individual from the frame number to get the adjusted frame number\n",
    "#     frame_adj = frame-first_frame\n",
    "#     # use track number and adjusted frame number to get the x and y pixel coordinates for the annotated image\n",
    "#     x_co = data[track]['track'][frame_adj][1]\n",
    "#     y_co = data[track]['track'][frame_adj][0]\n",
    "#     # append the extracted coordinaets to the coordinates lists\n",
    "#     x_coord.append(x_co)\n",
    "#     y_coord.append(y_co)\n",
    "    \n",
    "# # add coordinate lists to new_anns as new columns\n",
    "# new_anns['x_coord'] = x_coord\n",
    "# new_anns['y_coord'] = y_coord"
   ]
  },
  {
   "cell_type": "code",
   "execution_count": 17,
   "metadata": {},
   "outputs": [],
   "source": [
    "# adjust filenames so other people can read them in\n",
    "new_anns['file'] = [i.split('Volumes')[1] for i in new_anns['file']]"
   ]
  },
  {
   "cell_type": "code",
   "execution_count": 18,
   "metadata": {},
   "outputs": [
    {
     "data": {
      "text/html": [
       "<div>\n",
       "<style scoped>\n",
       "    .dataframe tbody tr th:only-of-type {\n",
       "        vertical-align: middle;\n",
       "    }\n",
       "\n",
       "    .dataframe tbody tr th {\n",
       "        vertical-align: top;\n",
       "    }\n",
       "\n",
       "    .dataframe thead th {\n",
       "        text-align: right;\n",
       "    }\n",
       "</style>\n",
       "<table border=\"1\" class=\"dataframe\">\n",
       "  <thead>\n",
       "    <tr style=\"text-align: right;\">\n",
       "      <th></th>\n",
       "      <th>file</th>\n",
       "      <th>score</th>\n",
       "    </tr>\n",
       "  </thead>\n",
       "  <tbody>\n",
       "    <tr>\n",
       "      <th>0</th>\n",
       "      <td>/kenya_drones/processing/kenya-tracking/proces...</td>\n",
       "      <td>head-up</td>\n",
       "    </tr>\n",
       "    <tr>\n",
       "      <th>1</th>\n",
       "      <td>/kenya_drones/processing/kenya-tracking/proces...</td>\n",
       "      <td>head-down</td>\n",
       "    </tr>\n",
       "    <tr>\n",
       "      <th>2</th>\n",
       "      <td>/kenya_drones/processing/kenya-tracking/proces...</td>\n",
       "      <td>head-up</td>\n",
       "    </tr>\n",
       "    <tr>\n",
       "      <th>3</th>\n",
       "      <td>/kenya_drones/processing/kenya-tracking/proces...</td>\n",
       "      <td>head-up</td>\n",
       "    </tr>\n",
       "    <tr>\n",
       "      <th>4</th>\n",
       "      <td>/kenya_drones/processing/kenya-tracking/proces...</td>\n",
       "      <td>head-up</td>\n",
       "    </tr>\n",
       "    <tr>\n",
       "      <th>...</th>\n",
       "      <td>...</td>\n",
       "      <td>...</td>\n",
       "    </tr>\n",
       "    <tr>\n",
       "      <th>104</th>\n",
       "      <td>/kenya_drones/processing/kenya-tracking/proces...</td>\n",
       "      <td>head-up</td>\n",
       "    </tr>\n",
       "    <tr>\n",
       "      <th>105</th>\n",
       "      <td>/kenya_drones/processing/kenya-tracking/proces...</td>\n",
       "      <td>head-up</td>\n",
       "    </tr>\n",
       "    <tr>\n",
       "      <th>106</th>\n",
       "      <td>/kenya_drones/processing/kenya-tracking/proces...</td>\n",
       "      <td>head-up</td>\n",
       "    </tr>\n",
       "    <tr>\n",
       "      <th>107</th>\n",
       "      <td>/kenya_drones/processing/kenya-tracking/proces...</td>\n",
       "      <td>head-up</td>\n",
       "    </tr>\n",
       "    <tr>\n",
       "      <th>108</th>\n",
       "      <td>/kenya_drones/processing/kenya-tracking/proces...</td>\n",
       "      <td>head-down</td>\n",
       "    </tr>\n",
       "  </tbody>\n",
       "</table>\n",
       "<p>109 rows × 2 columns</p>\n",
       "</div>"
      ],
      "text/plain": [
       "                                                  file      score\n",
       "0    /kenya_drones/processing/kenya-tracking/proces...    head-up\n",
       "1    /kenya_drones/processing/kenya-tracking/proces...  head-down\n",
       "2    /kenya_drones/processing/kenya-tracking/proces...    head-up\n",
       "3    /kenya_drones/processing/kenya-tracking/proces...    head-up\n",
       "4    /kenya_drones/processing/kenya-tracking/proces...    head-up\n",
       "..                                                 ...        ...\n",
       "104  /kenya_drones/processing/kenya-tracking/proces...    head-up\n",
       "105  /kenya_drones/processing/kenya-tracking/proces...    head-up\n",
       "106  /kenya_drones/processing/kenya-tracking/proces...    head-up\n",
       "107  /kenya_drones/processing/kenya-tracking/proces...    head-up\n",
       "108  /kenya_drones/processing/kenya-tracking/proces...  head-down\n",
       "\n",
       "[109 rows x 2 columns]"
      ]
     },
     "execution_count": 18,
     "metadata": {},
     "output_type": "execute_result"
    }
   ],
   "source": [
    "new_anns = new_anns[['file', 'score']]\n",
    "new_anns"
   ]
  },
  {
   "cell_type": "code",
   "execution_count": 19,
   "metadata": {},
   "outputs": [],
   "source": [
    "# add new annotations to completed annotations\n",
    "all_anns = completed_anns.append(new_anns)"
   ]
  },
  {
   "cell_type": "code",
   "execution_count": 20,
   "metadata": {},
   "outputs": [],
   "source": [
    "# drop any duplicates\n",
    "all_anns = all_anns.drop_duplicates()"
   ]
  },
  {
   "cell_type": "code",
   "execution_count": 23,
   "metadata": {},
   "outputs": [],
   "source": [
    "# save all annotations\n",
    "all_anns.to_csv('/Volumes/kenya_drones/vigilance/blair_head_annotations.csv', index = False)"
   ]
  },
  {
   "cell_type": "markdown",
   "metadata": {},
   "source": [
    "Before annotation, I need to read in a csv of filenames/annotations that I've already done and compare the assets list to that dataframe. Then have the widget only show me files that are not already in the dataframe. Then at the end, I need to merge the new annotations into that dataframe and save the new dataframe as a csv.\n",
    "\n",
    "I could also create a cell that goes through images that were skipped. Then, any of those images that had a non-skip annotation in the new annotations list should have their old skipped annotations replaced in the dataframe, and re-saved."
   ]
  },
  {
   "cell_type": "code",
   "execution_count": 21,
   "metadata": {},
   "outputs": [
    {
     "data": {
      "text/plain": [
       "head-up      935\n",
       "head-down    259\n",
       "Name: score, dtype: int64"
      ]
     },
     "execution_count": 21,
     "metadata": {},
     "output_type": "execute_result"
    }
   ],
   "source": [
    "all_anns.score.value_counts()"
   ]
  },
  {
   "cell_type": "code",
   "execution_count": 22,
   "metadata": {},
   "outputs": [
    {
     "data": {
      "text/plain": [
       "head-up      77\n",
       "head-down    32\n",
       "Name: score, dtype: int64"
      ]
     },
     "execution_count": 22,
     "metadata": {},
     "output_type": "execute_result"
    }
   ],
   "source": [
    "new_anns.score.value_counts()"
   ]
  },
  {
   "cell_type": "code",
   "execution_count": null,
   "metadata": {},
   "outputs": [],
   "source": []
  }
 ],
 "metadata": {
  "kernelspec": {
   "display_name": "Python 3 (ipykernel)",
   "language": "python",
   "name": "python3"
  },
  "language_info": {
   "codemirror_mode": {
    "name": "ipython",
    "version": 3
   },
   "file_extension": ".py",
   "mimetype": "text/x-python",
   "name": "python",
   "nbconvert_exporter": "python",
   "pygments_lexer": "ipython3",
   "version": "3.8.12"
  }
 },
 "nbformat": 4,
 "nbformat_minor": 4
}
